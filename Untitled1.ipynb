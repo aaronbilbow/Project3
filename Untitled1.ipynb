{
 "cells": [
  {
   "cell_type": "code",
   "execution_count": null,
   "id": "68182cf4-b680-45de-8f60-bbc43624c534",
   "metadata": {},
   "outputs": [],
   "source": [
    "import pandas as pd\n",
    "import pymongo\n",
    "\n",
    "# Define your MongoDB connection settings\n",
    "mongo_host = '127.0.0.1'\n",
    "mongo_port = 27017  # Change to your MongoDB port if it's not the default\n",
    "mongo_db = 'merged'\n",
    "\n",
    "# Establish a connection to the MongoDB server\n",
    "client = pymongo.MongoClient(mongo_host, mongo_port)\n",
    "\n",
    "# Access the MongoDB database\n",
    "db = client[mongo_db]"
   ]
  }
 ],
 "metadata": {
  "kernelspec": {
   "display_name": "Python 3 (ipykernel)",
   "language": "python",
   "name": "python3"
  },
  "language_info": {
   "codemirror_mode": {
    "name": "ipython",
    "version": 3
   },
   "file_extension": ".py",
   "mimetype": "text/x-python",
   "name": "python",
   "nbconvert_exporter": "python",
   "pygments_lexer": "ipython3",
   "version": "3.11.3"
  }
 },
 "nbformat": 4,
 "nbformat_minor": 5
}
