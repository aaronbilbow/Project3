{
 "cells": [
  {
   "cell_type": "code",
   "execution_count": null,
   "id": "8c48211a-32d9-4371-8fc7-e1014066ca0a",
   "metadata": {},
   "outputs": [],
   "source": [
    "import sqlite3\n",
    "\n",
    "# Replace 'your_database.db' with the actual name of your SQLite database file\n",
    "db_file = 'proje.db'\n",
    "\n",
    "# Connect to the SQLite database\n",
    "connection = sqlite3.connect(db_file)\n",
    "\n",
    "# Create a cursor object to execute SQL queries\n",
    "cursor = connection.cursor()\n",
    "\n",
    "# Example: Run a SQL query to fetch data from a table\n",
    "cursor.execute('SELECT * FROM your_table')\n",
    "data = cursor.fetchall()\n",
    "\n",
    "# Print or manipulate the data as needed\n",
    "print(data)\n",
    "\n",
    "\n"
   ]
  }
 ],
 "metadata": {
  "kernelspec": {
   "display_name": "Python 3 (ipykernel)",
   "language": "python",
   "name": "python3"
  },
  "language_info": {
   "codemirror_mode": {
    "name": "ipython",
    "version": 3
   },
   "file_extension": ".py",
   "mimetype": "text/x-python",
   "name": "python",
   "nbconvert_exporter": "python",
   "pygments_lexer": "ipython3",
   "version": "3.11.3"
  }
 },
 "nbformat": 4,
 "nbformat_minor": 5
}
